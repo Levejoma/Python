{
 "cells": [
  {
   "cell_type": "markdown",
   "id": "382091fc",
   "metadata": {
    "lines_to_next_cell": 2
   },
   "source": [
    "# Assignment 5\n",
    "\n",
    "These assignments are related to **Linked List**.\n",
    "* Read the related course material before doing the assignments from the [Linked List](https://ttc1050.pages.labranet.jamk.fi/ds_alg_material/materials/05_linked_list/).\n",
    "\n",
    "General notes of assignments:\n",
    "* NOTE! In general, after the implementation of the function, all assignments have a test program for the function.\n",
    "* NOTE! Add your code in the assignments only after the TODO lines."
   ]
  },
  {
   "cell_type": "markdown",
   "id": "5c94d8a7",
   "metadata": {},
   "source": [
    "## Assignment 5.1 (1 p)\n",
    "\n",
    "Report the functionality of the program.\n",
    "\n",
    "Here is the implementation of an algorithm that performs some _linked list operations_.\n",
    "\n",
    "Please\n",
    "1. _Analyze the code_ and\n",
    "2. _Report on the functionality_ of this program.\n",
    "\n",
    "Note! You should use the debugger with breakpoints there to test the program."
   ]
  },
  {
   "cell_type": "code",
   "execution_count": 1,
   "id": "c57a11c0",
   "metadata": {
    "ExecuteTime": {
     "end_time": "2024-01-05T13:48:04.291721700Z",
     "start_time": "2024-01-05T13:48:04.257812Z"
    }
   },
   "outputs": [
    {
     "name": "stdout",
     "output_type": "stream",
     "text": [
      "25.0 -> 12.5 -> 6.25 -> 3.125 -> 1.5625 -> 0.78125\n"
     ]
    }
   ],
   "source": [
    "class Point:\n",
    "    def __init__(self, value=None, next=None):\n",
    "        self.value = value\n",
    "        self.next = None\n",
    "\n",
    "\n",
    "class List:\n",
    "    def __init__(self):\n",
    "        self.head = None\n",
    "\n",
    "    def operation_1(self, numb):\n",
    "        while numb > 1:\n",
    "            numb = self.operation_2(numb)\n",
    "            p = Point(numb)\n",
    "\n",
    "            if self.head is None:\n",
    "                self.head = p\n",
    "            else:\n",
    "                cur = self.head\n",
    "\n",
    "                while cur.next:\n",
    "                    cur = cur.next\n",
    "\n",
    "                cur.next = p\n",
    "\n",
    "        c = self.head\n",
    "        n = []\n",
    "        while c:\n",
    "            n.append(str(c.value))\n",
    "            c = c.next\n",
    "        print(' -> '.join(n))\n",
    "\n",
    "    def operation_2(self, x):\n",
    "        y = x / 2\n",
    "        return y\n",
    "\n",
    "\n",
    "new_l = List()\n",
    "num = 50\n",
    "new_l.operation_1(num)"
   ]
  },
  {
   "cell_type": "markdown",
   "id": "3775d353",
   "metadata": {},
   "source": [
    "### Your response\n",
    "\n",
    "Operation_1 ottaa argumentiksi itsensä ja numb argumentin. while loopissa kutsutaan niin kauan operation_2 numb argumentilla, kunnes numb on alle 1.\n",
    "If ja Else lauseessa määritellään, että numb argumentti aloittaa tuotettavan listan ensimmäisen alkion. Tämän jälkeen cur päivittyy operation_2 jakamilla arvoilla kunnes cur.next = None eli False,\n",
    "jolloin se päättää whileloopin.  tämän jälkeen listaan n lisätään c:n eli operaation_2 jakamia alkioita jotka lopuksi tulostetaan join metodilla."
   ]
  },
  {
   "cell_type": "markdown",
   "id": "50321cce",
   "metadata": {},
   "source": [
    "## Assignment 5.2 (1 p)\n",
    "\n",
    "Implement new methods to `LinkedList` class.\n",
    "\n",
    "This Python code defines two classes: `Node` and `LinkedList`, implementing a basic **linked list** structure.\n",
    "* `Node` represents a node in the linked list and\n",
    "* `LinkedList` represents the linked list itself.\n",
    "\n",
    "In this assignment `LinkedList` implementation allows creating a linked list, add nodes, display the contents, and performing an iterative search for a specific value.\n",
    "\n",
    "Do the following task:\n",
    "* The `LinkedList` class will store the following integers: `3, 31, 21, 52, 16, 91, 10, and 5`. Insert these integers into the linked list.\n",
    "* Implement a search method called `iterative_search()` in the `LinkedList` class that takes the *Integer* to be searched for as an argument and reports whether this integer is found in the `LinkedList`.\n",
    "* Implement `search_items_from_list()`calling `iterative_search()` method from LinkedList class.\n",
    "* In test, you must add all items from `added_values` list to `linked_list`."
   ]
  },
  {
   "cell_type": "code",
   "execution_count": 41,
   "id": "3f172799",
   "metadata": {
    "ExecuteTime": {
     "end_time": "2024-01-05T13:48:05.855210Z",
     "start_time": "2024-01-05T13:48:04.307679200Z"
    },
    "lines_to_next_cell": 2
   },
   "outputs": [
    {
     "name": "stdout",
     "output_type": "stream",
     "text": [
      "13\n",
      "31\n",
      "21\n",
      "52\n",
      "16\n",
      "91\n",
      "10\n",
      "5\n",
      "[True, True, False]\n",
      "answer [True, True, False] was OK!\n"
     ]
    }
   ],
   "source": [
    "correct_answer_05_02 = [True, True, False]\n",
    "\n",
    "added_values = [13, 31, 21, 52, 16, 91, 10, 5]\n",
    "\n",
    "import unittest\n",
    "\n",
    "# Class for linkedlist node\n",
    "class Node:\n",
    "    def __init__(self, data=None, next_item=None):\n",
    "        self.data = data\n",
    "        self.next = next_item\n",
    "\n",
    "\n",
    "# Class for linkedlist\n",
    "class LinkedList:\n",
    "    def __init__(self):\n",
    "        self.head = None\n",
    "\n",
    "    def add_node(self, data):\n",
    "        new_node = Node(data)\n",
    "        if self.head:\n",
    "            current = self.head\n",
    "            while current.next:\n",
    "                current = current.next\n",
    "            current.next = new_node\n",
    "        else:\n",
    "            self.head = new_node\n",
    "\n",
    "    def display(self):\n",
    "        current = self.head\n",
    "        while current:\n",
    "            print(current.data)\n",
    "            current = current.next\n",
    "\n",
    "    def iterative_search(self, n):\n",
    "        # TODO: implement to search given Integer value from the linked list.\n",
    "        # TODO: return True if found, otherwise return False.\n",
    "        current = self.head\n",
    "        while current:\n",
    "            if current.data == n:\n",
    "                return True\n",
    "            current = current.next\n",
    "        return None\n",
    "\n",
    "\n",
    "def search_items_from_list(to_find, llist):\n",
    "    # TODO: Implement this by calling iterative_search method from LinkedList class.\n",
    "    result = []\n",
    "    for i in to_find:\n",
    "        if llist.iterative_search(i):\n",
    "            result.append(True)\n",
    "        else:\n",
    "            result.append(False)\n",
    "    return result\n",
    " \n",
    "# Test\n",
    "added_values = [13, 31, 21, 52, 16, 91, 10, 5]\n",
    "linked_list = LinkedList()\n",
    "\n",
    "# TODO: Add all items from added_values to LinkedList.\n",
    "for j in added_values:\n",
    "    linked_list.add_node(j)\n",
    "\n",
    "linked_list.display()\n",
    "\n",
    "search_items = [5, 31, 22]\n",
    "found_items = search_items_from_list(search_items, linked_list)\n",
    "print(found_items)\n",
    "\n",
    "\n",
    "unittest.TestCase().assertListEqual(found_items, correct_answer_05_02)\n",
    "print(f\"answer {found_items} was OK!\")"
   ]
  },
  {
   "cell_type": "markdown",
   "id": "2e98a4d2",
   "metadata": {
    "lines_to_next_cell": 2
   },
   "source": [
    "## Assignment 5.3 (1 p)\n",
    "\n",
    "Sort linked list elements.\n",
    "\n",
    "Create a function called `ask_linked_list_from_user()` that prompts the user to input the number of nodes in the linked list.\n",
    "Subsequently, ask the user to enter the same number of strings to be saved into the linked list.\n",
    "\n",
    "Perform also the following operations:\n",
    "* Sort the order of the linked list using the bubble sort method. You must implement bubble sort in this assignment in `bubble_sort_for_linked_list()` function\n",
    "* Create a method that returns the content of the linked list as a `list`.\n",
    "\n",
    "Note! The test program has already been implemented, so please don't edit it."
   ]
  },
  {
   "cell_type": "code",
   "execution_count": 46,
   "id": "e995afaf",
   "metadata": {
    "ExecuteTime": {
     "end_time": "2024-01-05T14:00:00.054699900Z",
     "start_time": "2024-01-05T14:00:00.011871400Z"
    }
   },
   "outputs": [
    {
     "name": "stdout",
     "output_type": "stream",
     "text": [
      "['a', 'b', 'd', 'i', 'ty']\n",
      "['a', 'b', 'd', 'i', 'ty']\n",
      "answer ['a', 'b', 'd', 'i', 'ty'] was OK!\n"
     ]
    }
   ],
   "source": [
    "import unittest\n",
    "class Node:\n",
    "    def __init__(self, data=None, next_item=None):\n",
    "        self.data = data\n",
    "        self.next = next_item\n",
    "\n",
    "\n",
    "class LinkedList:\n",
    "    def __init__(self):\n",
    "        self.head = None\n",
    "\n",
    "    def add_node(self, data):\n",
    "        new_node = Node(data)\n",
    "        if self.head:\n",
    "            current = self.head\n",
    "            while current.next:\n",
    "                current = current.next\n",
    "            current.next = new_node\n",
    "        else:\n",
    "            self.head = new_node\n",
    "\n",
    "    def display(self):\n",
    "        current = self.head\n",
    "        while current is not None:\n",
    "            if current.data is not None:\n",
    "                print(current.data)\n",
    "            current = current.next\n",
    "\n",
    "    def to_list(self):\n",
    "        new_list = []\n",
    "        current = self.head\n",
    "        while current is not None:\n",
    "            if current.data is not None:\n",
    "                new_list.append(current.data)\n",
    "            current = current.next\n",
    "        return new_list\n",
    "\n",
    "    def iterative_search(self, n):\n",
    "        # TODO: implement to search value from the linked list.\n",
    "        # return True or False\n",
    "        current = self.head\n",
    "        while current:\n",
    "            if current.data == n:\n",
    "                return True\n",
    "            current = current.next\n",
    "        return False\n",
    "\n",
    "\n",
    "def bubble_sort_for_linked_list(a):\n",
    "    #  TODO: Implement bubble sort to elements in the linked list.\n",
    "    sortedll = []\n",
    "    a = a.to_list()\n",
    "    for k in range(len(a)):\n",
    "        sortedll.append(a[k])\n",
    "    # TODO: Sort list and return sorted list with your own implementation of bubble sort.\n",
    "    for i in range(len(sortedll) - 1):\n",
    "        for j in range (len(sortedll) - 1 - i):\n",
    "            if sortedll[j] > sortedll[j + 1]:\n",
    "                temp = sortedll[j]\n",
    "                sortedll[j] = sortedll[j + 1]\n",
    "                sortedll[j + 1] = temp\n",
    "\n",
    "\n",
    "                \n",
    "    return sortedll\n",
    "\n",
    "\n",
    "def ask_linked_list_from_user():\n",
    "    # TODO: Ask the user for the number of nodes to enter the linked list.\n",
    "    # TODO: Then ask the user to enter the same number of strings.\n",
    "    linked_list = LinkedList()\n",
    "    try:\n",
    "        num_nodes = int(input(\"Enter the number of nodes: \"))\n",
    "        for _ in range(num_nodes):\n",
    "            data = input(\"Enter data for the node: \")\n",
    "            linked_list.add_node(data)\n",
    "    except ValueError:\n",
    "        print(\"Please enter a valid number.\")\n",
    "\n",
    "    return linked_list\n",
    "\n",
    "\n",
    "# Test\n",
    "linked_list = ask_linked_list_from_user()\n",
    "sorted_orig_list = sorted(linked_list.to_list())\n",
    "print(sorted_orig_list)\n",
    "\n",
    "sorted_llist = bubble_sort_for_linked_list(linked_list)\n",
    "print(sorted_llist)\n",
    "# Tässä aikasemmin bubblesorttia ei ikinä kytketty tohon sorted_llist muuttujaan vaan se jäi kokonaan pois tosta assertionista ja antoi sinne sen sorttaamattoman listan.\n",
    "\n",
    "unittest.TestCase().assertListEqual(sorted_llist, sorted_orig_list)\n",
    "print(f\"answer {sorted_llist} was OK!\")\n"
   ]
  }
 ],
 "metadata": {
  "jupytext": {
   "cell_metadata_filter": "-all",
   "main_language": "python",
   "notebook_metadata_filter": "-all"
  },
  "kernelspec": {
   "display_name": "Python 3 (ipykernel)",
   "language": "python",
   "name": "python3"
  },
  "language_info": {
   "codemirror_mode": {
    "name": "ipython",
    "version": 3
   },
   "file_extension": ".py",
   "mimetype": "text/x-python",
   "name": "python",
   "nbconvert_exporter": "python",
   "pygments_lexer": "ipython3",
   "version": "3.12.0"
  }
 },
 "nbformat": 4,
 "nbformat_minor": 5
}
