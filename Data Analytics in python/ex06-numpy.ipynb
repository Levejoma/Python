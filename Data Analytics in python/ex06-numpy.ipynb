{
 "cells": [
  {
   "cell_type": "markdown",
   "metadata": {},
   "source": [
    "## Exercise 6 - Numpy"
   ]
  },
  {
   "cell_type": "markdown",
   "metadata": {},
   "source": [
    "1 Generate two NumPy arrays so that first array has integers from 10 to 40 (inclusive). Second array should have integers from 220 to 250 (inclusive). Sum these arrays and present the result array."
   ]
  },
  {
   "cell_type": "code",
   "execution_count": 2,
   "metadata": {},
   "outputs": [
    {
     "data": {
      "text/plain": [
       "array([230, 232, 234, 236, 238, 240, 242, 244, 246, 248, 250, 252, 254,\n",
       "       256, 258, 260, 262, 264, 266, 268, 270, 272, 274, 276, 278, 280,\n",
       "       282, 284, 286, 288, 290])"
      ]
     },
     "execution_count": 2,
     "metadata": {},
     "output_type": "execute_result"
    }
   ],
   "source": [
    "import numpy as np\n",
    "\n",
    "arr1 = np.arange(10,41)\n",
    "arr2 = np.arange(220,251)\n",
    "task1arr = arr1 + arr2\n",
    "task1arr\n"
   ]
  },
  {
   "cell_type": "markdown",
   "metadata": {},
   "source": [
    "2 Generate two-dimensional array with 10 rows and 7 columns containing integers starting from 100."
   ]
  },
  {
   "cell_type": "code",
   "execution_count": 4,
   "metadata": {},
   "outputs": [
    {
     "data": {
      "text/plain": [
       "array([[100, 101, 102, 103, 104, 105, 106],\n",
       "       [107, 108, 109, 110, 111, 112, 113],\n",
       "       [114, 115, 116, 117, 118, 119, 120],\n",
       "       [121, 122, 123, 124, 125, 126, 127],\n",
       "       [128, 129, 130, 131, 132, 133, 134],\n",
       "       [135, 136, 137, 138, 139, 140, 141],\n",
       "       [142, 143, 144, 145, 146, 147, 148],\n",
       "       [149, 150, 151, 152, 153, 154, 155],\n",
       "       [156, 157, 158, 159, 160, 161, 162],\n",
       "       [163, 164, 165, 166, 167, 168, 169]])"
      ]
     },
     "execution_count": 4,
     "metadata": {},
     "output_type": "execute_result"
    }
   ],
   "source": [
    "arr3 = np.arange(100,170).reshape(10,7)\n",
    "arr3"
   ]
  },
  {
   "attachments": {},
   "cell_type": "markdown",
   "metadata": {},
   "source": [
    "3 Generate two one-dimensional arrays having integers between 1-50. First array should have even and second array should have odd numbers. Finally multiply each element from corresponding index positions from these two arrays for the result array. For example [(1 x 2),(3 x 4),(5 x 6),(7 x 8)...]."
   ]
  },
  {
   "cell_type": "code",
   "execution_count": 38,
   "metadata": {},
   "outputs": [
    {
     "data": {
      "text/plain": [
       "[2,\n",
       " 12,\n",
       " 30,\n",
       " 56,\n",
       " 90,\n",
       " 132,\n",
       " 182,\n",
       " 240,\n",
       " 306,\n",
       " 380,\n",
       " 462,\n",
       " 552,\n",
       " 650,\n",
       " 756,\n",
       " 870,\n",
       " 992,\n",
       " 1122,\n",
       " 1260,\n",
       " 1406,\n",
       " 1560,\n",
       " 1722,\n",
       " 1892,\n",
       " 2070,\n",
       " 2256,\n",
       " 2450]"
      ]
     },
     "execution_count": 38,
     "metadata": {},
     "output_type": "execute_result"
    }
   ],
   "source": [
    "arr3odd = np.arange(1,50,2)\n",
    "arr3even = np.arange(2,51,2)\n",
    "task3arr = []\n",
    "for i, j in zip (range(len(arr3odd)),range(len(arr3even))):\n",
    "    ind = arr3odd[i] * arr3even[j]\n",
    "    task3arr.append(ind)\n",
    "task3arr\n"
   ]
  },
  {
   "attachments": {},
   "cell_type": "markdown",
   "metadata": {},
   "source": [
    "4 Generate two-dimensional array (40 rows, 5 columns) containing random integers between 1 and 1000. Filter the result array so that only numbers divisable with numbers 2 and 5 are presented (number must be divisable with both)."
   ]
  },
  {
   "cell_type": "code",
   "execution_count": 45,
   "metadata": {},
   "outputs": [
    {
     "data": {
      "text/plain": [
       "array([340, 210, 760, 490, 500, 250, 800, 410, 330, 850, 850, 980, 860,\n",
       "       130, 400, 760, 350, 560, 350])"
      ]
     },
     "execution_count": 45,
     "metadata": {},
     "output_type": "execute_result"
    }
   ],
   "source": [
    "arr4 = np.random.randint(1,1000,200).reshape(40,5)\n",
    "filter = np.where((arr4 % 2 == 0) & (arr4 % 5 == 0))\n",
    "result = arr4[filter]\n",
    "result"
   ]
  }
 ],
 "metadata": {
  "kernelspec": {
   "display_name": "Python 3",
   "language": "python",
   "name": "python3"
  },
  "language_info": {
   "codemirror_mode": {
    "name": "ipython",
    "version": 3
   },
   "file_extension": ".py",
   "mimetype": "text/x-python",
   "name": "python",
   "nbconvert_exporter": "python",
   "pygments_lexer": "ipython3",
   "version": "3.12.0"
  },
  "orig_nbformat": 2,
  "vscode": {
   "interpreter": {
    "hash": "05cbb8e30cd2cbe161554e93617827c610928832f77224aad1765f5c87120ccf"
   }
  }
 },
 "nbformat": 4,
 "nbformat_minor": 2
}
