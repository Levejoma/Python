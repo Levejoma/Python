{
 "cells": [
  {
   "cell_type": "markdown",
   "metadata": {},
   "source": [
    "## Exercise 3 - Data sources\n",
    "- All files used in this exercise can be found under the Exercises/data_files directory"
   ]
  },
  {
   "attachments": {},
   "cell_type": "markdown",
   "metadata": {},
   "source": [
    "1 Use gamedata.json for this task. This file contains information of games sold through Steam. Parse out the following information from the data (Important: Do not combine these filters, but do them separately!):\n",
    "- TOP 3 highest metacritic score. Present results using the following format: *Title* has metacritic score of *Score* (for example)\n",
    "- Games with price discount being 90 % or more. Present results using the following format: *Title* | Discount: *Savings* (for example Metal Gear Solid V: Ground Zeroes | Discount: 90.090090)\n",
    "- Games having metacritic score higher than steam score. Present results using the following format: *Title* has metacritic score of *MetacriticScore* and steam score of *SteamRatingPercent*"
   ]
  },
  {
   "cell_type": "code",
   "execution_count": 33,
   "metadata": {},
   "outputs": [
    {
     "name": "stdout",
     "output_type": "stream",
     "text": [
      "Star Wars: Knights of the Old Republic has Metacritic score of 93\n",
      "Metal Gear Solid V: The Phantom Pain has Metacritic score of 91\n",
      "Bayonetta has Metacritic score of 90\n"
     ]
    }
   ],
   "source": [
    "import json\n",
    "\n",
    "with open (\"data_files/gamedata.json\") as datas:\n",
    "    titles = json.load(datas)\n",
    "    top3score = sorted(titles, key=lambda x:x[\"metacriticScore\"], reverse=True)\n",
    "    \n",
    "    for i, titles in enumerate(top3score):\n",
    "        if i > 2:\n",
    "            break\n",
    "        else:\n",
    "            print(f\"{titles[\"title\"]} has Metacritic score of {titles[\"metacriticScore\"]}\")\n",
    "     "
   ]
  },
  {
   "cell_type": "code",
   "execution_count": 34,
   "metadata": {},
   "outputs": [
    {
     "name": "stdout",
     "output_type": "stream",
     "text": [
      "Shadow Tactics: Blades of the Shogun | Discount: 90.0225056264066%\n",
      "Airscape: The Fall of Gravity | Discount: 90.18036072144288%\n",
      "Making History: The Calm and the Storm | Discount: 90.18036072144288%\n",
      "Avencast: Rise of the Mage | Discount: 90.09009009009009%\n",
      "Metal Gear Solid V: Ground Zeroes | Discount: 90.04502251125564%\n",
      "The Way | Discount: 90.06004002668445%\n",
      "Teslagrad | Discount: 90.09009009009009%\n",
      "White Wings  | Discount: 90.04502251125564%\n",
      "Phantaruk | Discount: 90.18036072144288%\n",
      "Oozi Earth Adventure | Discount: 90.18036072144288%\n",
      "Lucius | Discount: 90.09009009009009%\n",
      "The Long Journey Home | Discount: 90.04502251125564%\n",
      "NEON STRUCT | Discount: 90.05002779321846%\n",
      "House of Caravan | Discount: 90.18036072144288%\n"
     ]
    }
   ],
   "source": [
    "with open (\"data_files/gamedata.json\") as datas:\n",
    "    titles = json.load(datas)\n",
    "for i in titles:\n",
    "    sale = float(i[\"salePrice\"])\n",
    "    price = float(i[\"normalPrice\"])\n",
    "    if i[\"isOnSale\"] == \"1\":\n",
    "        if sale <= price * 0.1:\n",
    "            game = i[\"title\"]\n",
    "            discount = (price - sale)/price * 100\n",
    "            print(f\"{game} | Discount: {discount}%\")\n"
   ]
  },
  {
   "cell_type": "code",
   "execution_count": 36,
   "metadata": {},
   "outputs": [
    {
     "name": "stdout",
     "output_type": "stream",
     "text": [
      "NBA 2K21 has Metacritic score of 67.0 and Steam review score of 39.0\n",
      "Commander 85 has Metacritic score of 45.0 and Steam review score of 35.0\n",
      "Inversion has Metacritic score of 59.0 and Steam review score of 57.0\n",
      "Bionic Commando: Rearmed has Metacritic score of 86.0 and Steam review score of 71.0\n",
      "Metal Gear Solid V: The Phantom Pain has Metacritic score of 91.0 and Steam review score of 90.0\n",
      "Port Royale 2 has Metacritic score of 75.0 and Steam review score of 68.0\n",
      "Project Cars 2 has Metacritic score of 84.0 and Steam review score of 79.0\n",
      "Full Spectrum Warrior has Metacritic score of 80.0 and Steam review score of 65.0\n",
      "The Long Journey Home has Metacritic score of 68.0 and Steam review score of 60.0\n",
      "Star Wars: Knights of the Old Republic has Metacritic score of 93.0 and Steam review score of 90.0\n",
      "Starpoint Gemini Warlords has Metacritic score of 73.0 and Steam review score of 72.0\n",
      "Tidalis has Metacritic score of 75.0 and Steam review score of 70.0\n"
     ]
    }
   ],
   "source": [
    "with open (\"data_files/gamedata.json\") as datas:\n",
    "    titles = json.load(datas)\n",
    "for i in titles:\n",
    "    metareview = float(i[\"metacriticScore\"])\n",
    "    steamreview = float(i[\"steamRatingPercent\"])\n",
    "    if metareview > steamreview:\n",
    "        game = i[\"title\"]\n",
    "        print(f\"{game} has Metacritic score of {metareview} and Steam review score of {steamreview}\")"
   ]
  },
  {
   "cell_type": "markdown",
   "metadata": {},
   "source": [
    "2 Use earthquakes.csv for this task. This file contains information about earthquakes recorded between 1965 and 2016. Earthquake magnitude value describes how strong the earthquake is. Magnitude information can be categorized like presented in the table below (*Source: http://www.geo.mtu.edu/UPSeis/magnitude.html*).\n",
    "\n",
    "| Magnitude       | Class | Effects |\n",
    "|-----------------|-------|---------|\n",
    "| 2.49 or less    | Minor | Usually not felt, but can be recorded by seismograph. |\n",
    "| 2.50 to 5.49    | Light | Often felt, but only causes minor damage. |\n",
    "| 5.50 to 6.09    | Moderate | Slight damage to buildings and other structures. |\n",
    "| 6.10 to 6.99    | Strong | May cause a lot of damage in very populated areas. |\n",
    "| 7.00 to 7.99    | Major | Major earthquake. Serious damage. |\n",
    "| 8.00 or greater | Great | Great earthquake. Can totally destroy communities near the epicenter. |\n",
    "\n",
    "Count how many earthquakes have occurred in each class.\n",
    "\n",
    "<b style=\"color:red;\">Notice:</b> The first value has been modified to be 2.4 or less compared to the original source (has been 2.5 or less)."
   ]
  },
  {
   "cell_type": "code",
   "execution_count": 1,
   "metadata": {},
   "outputs": [
    {
     "name": "stdout",
     "output_type": "stream",
     "text": [
      "{'Minor': 0, 'Light': 0, 'Moderate': 17639, 'Strong': 5035, 'Major': 698, 'Great': 40}\n"
     ]
    }
   ],
   "source": [
    "import pandas as pd\n",
    "data = pd.read_csv(\"data_files/earthquakes.csv\", delimiter=\",\")\n",
    "magnitudeclass = {\"Minor\": 0, \"Light\": 0, \"Moderate\": 0, \"Strong\": 0, \"Major\": 0, \"Great\": 0}\n",
    "for i in data[\"Magnitude\"]:\n",
    "    if i < 2.5:\n",
    "        magnitudeclass[\"Minor\"] += 1\n",
    "    elif 2.5 <= i < 5.5:\n",
    "        magnitudeclass[\"Light\"] += 1\n",
    "    elif 5.5 <= i < 6.1:\n",
    "        magnitudeclass[\"Moderate\"] += 1\n",
    "    elif 6.1 <= i < 7.0:\n",
    "        magnitudeclass[\"Strong\"] += 1\n",
    "    elif 7.0 <= i < 8.0:\n",
    "        magnitudeclass[\"Major\"] += 1\n",
    "    elif 8.0 <= i:\n",
    "        magnitudeclass[\"Great\"] += 1\n",
    "print(magnitudeclass)\n",
    "\n"
   ]
  },
  {
   "cell_type": "markdown",
   "metadata": {},
   "source": [
    "3 Use netflix_titles.xml for this task. This file contains information about Netflix movies and TV shows. **Important:** Movies have duration presented in minutes while TV shows have duration presented in amount of seasons! Parse out the following information from the data and show only counts for these (how many instances are returned):\n",
    "- Movies released in 2017\n",
    "- TV show and movie amount (present both counts in separate lines)\n",
    "- Movies with a length between 15 and 20 minutes (values 15 and 20 included)"
   ]
  },
  {
   "cell_type": "code",
   "execution_count": 81,
   "metadata": {},
   "outputs": [
    {
     "name": "stdout",
     "output_type": "stream",
     "text": [
      "Amount of movies released in 2017: 744\n",
      "Total amount of Movies: 5377\n",
      "Total amount of TV-shows: 2410\n",
      "Shortfilms 15-20mins: 11\n"
     ]
    }
   ],
   "source": [
    "import xml.etree.ElementTree as e\n",
    "\n",
    "tree = e.parse(\"data_files/netflix_titles.xml\")\n",
    "root = tree.getroot()\n",
    "\n",
    "moviecollection = []\n",
    "\n",
    "datatitles = []\n",
    "for i in root[0]:\n",
    "    datatitles.append(i.tag)\n",
    "for value in root:\n",
    "    movie_list = []\n",
    "    for subval in value:\n",
    "        movie_list.append(subval.text)\n",
    "    moviecollection.append(movie_list)\n",
    "\n",
    "movie = []\n",
    "for j in moviecollection:\n",
    "    movieobj = {}\n",
    "    for k in range(len(j)):\n",
    "        movieobj[datatitles[k]] = j[k]\n",
    "    movie.append(movieobj)\n",
    "#NYT ON KIVA DICTI MISTÄ SAA HELPOSTI NOITA LUETTUA\n",
    "    \n",
    "\n",
    "#VASTAUS EKAAN KOHTAAN\n",
    "releasedin2017 = 0\n",
    "for n in movie:\n",
    "    if n[\"type\"] == \"Movie\":\n",
    "        if n[\"release_year\"] == \"2017\": \n",
    "            releasedin2017 += 1\n",
    "    else:\n",
    "        continue\n",
    "print(f\"Amount of movies released in 2017: {releasedin2017}\")\n",
    "\n",
    "#VASTAUS TOKAAN KOHTAAN\n",
    "shows = 0\n",
    "movies = 0\n",
    "for n in movie:\n",
    "    if n[\"type\"] == \"Movie\":\n",
    "        movies += 1\n",
    "    elif n[\"type\"] == \"TV Show\":\n",
    "        shows += 1\n",
    "    else:\n",
    "        continue\n",
    "#TOTA CONTINUEE EI VISSIINKÄÄ TARTTE TOHON MUT NÄYTTÄÄ MUN MIELEST KIVALTA\n",
    "print(f\"Total amount of Movies: {movies}\")\n",
    "print(f\"Total amount of TV-shows: {shows}\")\n",
    "\n",
    "#VASTAUS VIKAAN KOHTAAN\n",
    "shortfilms = 0\n",
    "for n in movie:\n",
    "    if n[\"type\"] == \"Movie\":\n",
    "        if 15 <= int(''.join(filter(lambda x: x.isdigit(), n[\"duration\"]))) <= 20: \n",
    "            shortfilms += 1\n",
    "    else:\n",
    "        continue\n",
    "print(f\"Shortfilms 15-20mins: {shortfilms}\")"
   ]
  },
  {
   "cell_type": "markdown",
   "metadata": {},
   "source": [
    "4 Use the following Rest API for this task: https://tie.digitraffic.fi/api/weather/v1/stations/data. Calculate the average for air temperature (ILMA) and humidity (ILMAN_KOSTEUS) values using two decimals."
   ]
  },
  {
   "cell_type": "code",
   "execution_count": 44,
   "metadata": {},
   "outputs": [
    {
     "name": "stdout",
     "output_type": "stream",
     "text": [
      "The average temparture is -0.3 Celsius\n",
      "The average humidity is 41.2%\n"
     ]
    }
   ],
   "source": [
    "import requests\n",
    "\n",
    "url = \"https://tie.digitraffic.fi/api/weather/v1/stations/data\"\n",
    "req = requests.get(url=url)\n",
    "\n",
    "req.status_code\n",
    "data = req.json()\n",
    "\n",
    "temp = []\n",
    "hum = []\n",
    "for i in data[\"stations\"]:\n",
    "    for j in i[\"sensorValues\"]:\n",
    "        if j[\"name\"] == \"ILMA\":\n",
    "            temp.append(j[\"value\"])\n",
    "        elif j[\"name\"] == \"ILMAN_KOSTEUS\":\n",
    "            hum.append(j[\"value\"])\n",
    "        else:\n",
    "            continue\n",
    "\n",
    "temptotal = len(temp)\n",
    "tempsum = 0\n",
    "\n",
    "humtotal = len(hum)\n",
    "humsum = 0\n",
    "\n",
    "for t, h in zip(range(temptotal), range(humtotal)):\n",
    "    tempsum += float(temp[t])\n",
    "    humsum += float(hum[h])\n",
    "\n",
    "tempavg =  round(tempsum/temptotal, 2)\n",
    "humavg =  round(humsum/humtotal, 2)\n",
    "\n",
    "print(f\"The average temparture is {tempavg} Celsius\")\n",
    "print(f\"The average humidity is {humavg}%\")\n",
    "\n",
    "    \n"
   ]
  }
 ],
 "metadata": {
  "kernelspec": {
   "display_name": "Python 3",
   "language": "python",
   "name": "python3"
  },
  "language_info": {
   "codemirror_mode": {
    "name": "ipython",
    "version": 3
   },
   "file_extension": ".py",
   "mimetype": "text/x-python",
   "name": "python",
   "nbconvert_exporter": "python",
   "pygments_lexer": "ipython3",
   "version": "3.12.2"
  },
  "orig_nbformat": 2
 },
 "nbformat": 4,
 "nbformat_minor": 2
}
